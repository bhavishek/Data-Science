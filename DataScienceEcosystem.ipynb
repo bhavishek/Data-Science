{
 "cells": [
  {
   "cell_type": "markdown",
   "id": "25560c68-4ea5-4932-a278-eee98a2cbf87",
   "metadata": {},
   "source": [
    "# Data Science Tools and Ecosystem"
   ]
  },
  {
   "cell_type": "markdown",
   "id": "39c969f4-42eb-4463-ba3e-becfac78ae35",
   "metadata": {},
   "source": [
    "In this notebook, Data Science Tools and Ecosystem are summarized."
   ]
  },
  {
   "cell_type": "markdown",
   "id": "1ea716ef-bb38-4599-a0f9-68676fdfbe7c",
   "metadata": {},
   "source": [
    "Some of the popular languages that Data Scientists use are:\n",
    "1. Python\n",
    "2. R\n",
    "3. Java"
   ]
  },
  {
   "cell_type": "markdown",
   "id": "98f7d831-822f-4090-b0e9-a45d3c55b58b",
   "metadata": {},
   "source": [
    "Some of the commonly used libraries used by Data Scientists include:\n",
    "1. Pandas \n",
    "2. Tensorflow|\n",
    "3. scikit-learn\n"
   ]
  },
  {
   "cell_type": "markdown",
   "id": "d7e8098e-7ef8-4b79-a25c-1bc333df9a7f",
   "metadata": {},
   "source": [
    "| Data Science Tools |\n",
    "| --- |\n",
    "| TensorFlow |\n",
    "| PyTorch |\n",
    "| ScikitLearn |"
   ]
  },
  {
   "cell_type": "markdown",
   "id": "2f46ca7b-d607-42c4-85cc-06af38429760",
   "metadata": {},
   "source": [
    "### Below are a few examples of evaluating arithmetic expressions in Python"
   ]
  },
  {
   "cell_type": "code",
   "execution_count": 15,
   "id": "19a29f6f-ddcc-4080-98c5-99893972641b",
   "metadata": {},
   "outputs": [
    {
     "data": {
      "text/plain": [
       "17"
      ]
     },
     "execution_count": 15,
     "metadata": {},
     "output_type": "execute_result"
    }
   ],
   "source": [
    "#This a simple arithmetic expression to mutiply then add integers\n",
    "(3*4) + 5"
   ]
  },
  {
   "cell_type": "code",
   "execution_count": 17,
   "id": "103223a1-8898-41f4-998a-8d1faeed914d",
   "metadata": {},
   "outputs": [
    {
     "data": {
      "text/plain": [
       "3.3333333333333335"
      ]
     },
     "execution_count": 17,
     "metadata": {},
     "output_type": "execute_result"
    }
   ],
   "source": [
    "#This will convert 200 minutes to hours by diving by 60\n",
    "200/60"
   ]
  },
  {
   "cell_type": "markdown",
   "id": "869f2c03-3863-4df3-99e7-5797f604afde",
   "metadata": {},
   "source": [
    "**Objectives:**\n",
    "- Tools for Data Science\n",
    "- Basics of R & GitHub\n",
    "- Basics of Data Science"
   ]
  },
  {
   "cell_type": "markdown",
   "id": "3e362333-8f66-443d-a718-9a29724dff6f",
   "metadata": {},
   "source": [
    "## Author\n",
    "Bhavishek Bhalla"
   ]
  },
  {
   "cell_type": "code",
   "execution_count": null,
   "id": "a12013b2-543f-4393-87bd-257f5327a3bd",
   "metadata": {},
   "outputs": [],
   "source": []
  }
 ],
 "metadata": {
  "kernelspec": {
   "display_name": "anaconda-panel-2023.05-py310",
   "language": "python",
   "name": "conda-env-anaconda-panel-2023.05-py310-py"
  },
  "language_info": {
   "codemirror_mode": {
    "name": "ipython",
    "version": 3
   },
   "file_extension": ".py",
   "mimetype": "text/x-python",
   "name": "python",
   "nbconvert_exporter": "python",
   "pygments_lexer": "ipython3",
   "version": "3.11.5"
  }
 },
 "nbformat": 4,
 "nbformat_minor": 5
}
